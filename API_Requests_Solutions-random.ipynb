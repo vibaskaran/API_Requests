{
 "cells": [
  {
   "cell_type": "code",
   "execution_count": 8,
   "metadata": {
    "collapsed": true
   },
   "outputs": [],
   "source": [
    "# Dependencies\n",
    "import json\n",
    "import requests as req\n",
    "from citipy import citipy \n",
    "import random as r \n",
    "import numpy as np"
   ]
  },
  {
   "cell_type": "code",
   "execution_count": 9,
   "metadata": {
    "collapsed": true
   },
   "outputs": [],
   "source": [
    "# Save config information\n",
    "api_key = \"572ecb9cf7bb5d1eccdea81f6bd8913d\"\n",
    "url = \"http://api.openweathermap.org/data/2.5/weather?\"\n",
    "equ_lat = -1.3552423\n",
    "equ_lon = -88.3931602\n",
    "city_name = []\n",
    "lat = []\n",
    "lon = []\n",
    "temperature = []\n",
    "pressure = []\n",
    "humidity = []\n",
    "wind_speed = []\n",
    "coordinates= []"
   ]
  },
  {
   "cell_type": "code",
   "execution_count": 10,
   "metadata": {
    "collapsed": true
   },
   "outputs": [],
   "source": [
    "def generate_random_data(lat, lon, num_rows):\n",
    "    for _ in range(num_rows):\n",
    "        dec_lat = r.random()/100 + r.randint(1,50)\n",
    "        dec_lon = r.random()/100+ r.randint(1,50)\n",
    "        #print(lat+dec_lat,lon+dec_lon )\n",
    "        coordinates.append((lat+dec_lat,lon+dec_lon))\n",
    "\n",
    "generate_random_data(equ_lat, equ_lon, 5)"
   ]
  },
  {
   "cell_type": "code",
   "execution_count": 11,
   "metadata": {
    "collapsed": true
   },
   "outputs": [],
   "source": [
    "#coordinates"
   ]
  },
  {
   "cell_type": "code",
   "execution_count": 12,
   "metadata": {
    "collapsed": true
   },
   "outputs": [],
   "source": [
    "cities = []\n",
    "\n",
    "for coordinate_pair in coordinates:\n",
    "    lat, lon = coordinate_pair\n",
    "    cities.append(citipy.nearest_city(lat, lon).city_name)"
   ]
  },
  {
   "cell_type": "code",
   "execution_count": 13,
   "metadata": {},
   "outputs": [
    {
     "name": "stdout",
     "output_type": "stream",
     "text": [
      "\n",
      "0 City Name is  codrington\n",
      "\n",
      "http://api.openweathermap.org/data/2.5/weather?appid=572ecb9cf7bb5d1eccdea81f6bd8913d&q=codrington\n",
      "\n",
      "1 City Name is  ribeira grande\n",
      "\n",
      "http://api.openweathermap.org/data/2.5/weather?appid=572ecb9cf7bb5d1eccdea81f6bd8913d&q=ribeira grande\n",
      "\n",
      "2 City Name is  middletown\n",
      "\n",
      "http://api.openweathermap.org/data/2.5/weather?appid=572ecb9cf7bb5d1eccdea81f6bd8913d&q=middletown\n",
      "\n",
      "3 City Name is  madoc\n",
      "\n",
      "http://api.openweathermap.org/data/2.5/weather?appid=572ecb9cf7bb5d1eccdea81f6bd8913d&q=madoc\n",
      "\n",
      "4 City Name is  saint-francois\n",
      "\n",
      "http://api.openweathermap.org/data/2.5/weather?appid=572ecb9cf7bb5d1eccdea81f6bd8913d&q=saint-francois\n"
     ]
    }
   ],
   "source": [
    "for city in cities:\n",
    "    query_url = url + \"appid=\" + api_key + \"&q=\" + str(city)\n",
    "    print()\n",
    "    print(cities.index(city),'City Name is ',city)\n",
    "    print()\n",
    "    print(query_url)"
   ]
  },
  {
   "cell_type": "code",
   "execution_count": 18,
   "metadata": {},
   "outputs": [
    {
     "name": "stdout",
     "output_type": "stream",
     "text": [
      "{'coord': {'lon': 141.97, 'lat': -38.27}, 'weather': [{'id': 802, 'main': 'Clouds', 'description': 'scattered clouds', 'icon': '03n'}], 'base': 'stations', 'main': {'temp': 287.581, 'pressure': 1021.68, 'humidity': 84, 'temp_min': 287.581, 'temp_max': 287.581, 'sea_level': 1023.85, 'grnd_level': 1021.68}, 'wind': {'speed': 3.12, 'deg': 264.502}, 'clouds': {'all': 44}, 'dt': 1505118640, 'sys': {'message': 0.1078, 'country': 'AU', 'sunrise': 1505075923, 'sunset': 1505117957}, 'id': 2171099, 'name': 'Codrington', 'cod': 200}\n",
      "{'coord': {'lon': -28.7, 'lat': 38.52}, 'weather': [{'id': 803, 'main': 'Clouds', 'description': 'broken clouds', 'icon': '04d'}], 'base': 'stations', 'main': {'temp': 294.15, 'pressure': 1026, 'humidity': 83, 'temp_min': 294.15, 'temp_max': 294.15}, 'visibility': 10000, 'wind': {'speed': 1.5, 'deg': 40}, 'clouds': {'all': 75}, 'dt': 1505116800, 'sys': {'type': 1, 'id': 5950, 'message': 0.0046, 'country': 'PT', 'sunrise': 1505115196, 'sunset': 1505160511}, 'id': 3372707, 'name': 'Ribeira Grande', 'cod': 200}\n",
      "{'coord': {'lon': -84.4, 'lat': 39.52}, 'weather': [{'id': 800, 'main': 'Clear', 'description': 'clear sky', 'icon': '01n'}], 'base': 'stations', 'main': {'temp': 283.15, 'pressure': 1025, 'humidity': 87, 'temp_min': 282.15, 'temp_max': 284.15}, 'visibility': 16093, 'wind': {'speed': 3.1, 'deg': 50}, 'clouds': {'all': 1}, 'dt': 1505116680, 'sys': {'type': 1, 'id': 2174, 'message': 0.0045, 'country': 'US', 'sunrise': 1505128539, 'sunset': 1505173896}, 'id': 4518264, 'name': 'Middletown', 'cod': 200}\n",
      "{'coord': {'lon': -77.47, 'lat': 44.51}, 'weather': [{'id': 800, 'main': 'Clear', 'description': 'clear sky', 'icon': '02n'}], 'base': 'stations', 'main': {'temp': 282.15, 'pressure': 1028, 'humidity': 93, 'temp_min': 282.15, 'temp_max': 282.15}, 'visibility': 24140, 'wind': {'speed': 1, 'deg': 20}, 'clouds': {'all': 5}, 'dt': 1505116800, 'sys': {'type': 1, 'id': 3724, 'message': 0.0035, 'country': 'CA', 'sunrise': 1505126691, 'sunset': 1505172411}, 'id': 6063989, 'name': 'Madoc', 'cod': 200}\n",
      "{'coord': {'lon': 3.91, 'lat': 46.42}, 'weather': [{'id': 803, 'main': 'Clouds', 'description': 'broken clouds', 'icon': '04d'}], 'base': 'stations', 'main': {'temp': 289.15, 'pressure': 1007, 'humidity': 67, 'temp_min': 289.15, 'temp_max': 289.15}, 'visibility': 10000, 'wind': {'speed': 3.6, 'deg': 260}, 'clouds': {'all': 75}, 'dt': 1505116800, 'sys': {'type': 1, 'id': 5569, 'message': 0.0042, 'country': 'FR', 'sunrise': 1505107063, 'sunset': 1505152982}, 'id': 2980080, 'name': 'Saint-Francois', 'cod': 200}\n"
     ]
    }
   ],
   "source": [
    "for city in cities:\n",
    "    query_url = url + \"appid=\" + api_key + \"&q=\" + str(city)\n",
    "    #rint(city,'City Name is ',city)\n",
    "    #print(query_url)\n",
    "    # Get weather data\n",
    "    weather_response = req.get(query_url)\n",
    "    weather_json = weather_response.json()\n",
    "    # Get temperature from JSON response\n",
    "    #print(weather_json)\n",
    "    city_name.append(weather_json['name'])\n",
    "    lat.append(weather_json['coord']['lat'])\n",
    "    lon.append(weather_json['coord']['lon'])\n",
    "    temperature.append(weather_json['main']['temp'])\n",
    "    pressure.append(weather_json['main']['pressure'])\n",
    "    humidity.append(weather_json['main']['humidity'])\n",
    "    wind_speed.append(weather_json['wind']['speed'])\n",
    "city_data = \n",
    "#print(city_name)"
   ]
  },
  {
   "cell_type": "code",
   "execution_count": 19,
   "metadata": {},
   "outputs": [
    {
     "data": {
      "text/plain": [
       "['Codrington', 'Ribeira Grande', 'Middletown', 'Madoc', 'Saint-Francois']"
      ]
     },
     "execution_count": 19,
     "metadata": {},
     "output_type": "execute_result"
    }
   ],
   "source": [
    "city_name"
   ]
  },
  {
   "cell_type": "code",
   "execution_count": null,
   "metadata": {
    "collapsed": true
   },
   "outputs": [],
   "source": []
  }
 ],
 "metadata": {
  "kernelspec": {
   "display_name": "Python 3",
   "language": "python",
   "name": "python3"
  },
  "language_info": {
   "codemirror_mode": {
    "name": "ipython",
    "version": 3
   },
   "file_extension": ".py",
   "mimetype": "text/x-python",
   "name": "python",
   "nbconvert_exporter": "python",
   "pygments_lexer": "ipython3",
   "version": "3.6.1"
  }
 },
 "nbformat": 4,
 "nbformat_minor": 2
}

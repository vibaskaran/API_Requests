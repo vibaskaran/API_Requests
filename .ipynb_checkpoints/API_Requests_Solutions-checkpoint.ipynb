{
 "cells": [
  {
   "cell_type": "code",
   "execution_count": 48,
   "metadata": {
    "collapsed": true
   },
   "outputs": [],
   "source": [
    "# Dependencies\n",
    "import json\n",
    "import requests as req\n",
    "import citipy\n",
    "import random as r \n",
    "import numpy as np"
   ]
  },
  {
   "cell_type": "code",
   "execution_count": 29,
   "metadata": {
    "collapsed": true
   },
   "outputs": [],
   "source": [
    "# Save config information\n",
    "api_key = \"572ecb9cf7bb5d1eccdea81f6bd8913d\"\n",
    "url = \"http://api.openweathermap.org/data/2.5/weather?\"\n",
    "equ_lat = -1.3552423\n",
    "equ_lon = -88.3931602"
   ]
  },
  {
   "cell_type": "code",
   "execution_count": 53,
   "metadata": {},
   "outputs": [
    {
     "ename": "TypeError",
     "evalue": "random_sample() takes at most 1 positional argument (2 given)",
     "output_type": "error",
     "traceback": [
      "\u001b[1;31m---------------------------------------------------------------------------\u001b[0m",
      "\u001b[1;31mTypeError\u001b[0m                                 Traceback (most recent call last)",
      "\u001b[1;32m<ipython-input-53-8f89b30a3074>\u001b[0m in \u001b[0;36m<module>\u001b[1;34m()\u001b[0m\n\u001b[1;32m----> 1\u001b[1;33m \u001b[0mnp\u001b[0m\u001b[1;33m.\u001b[0m\u001b[0mrandom\u001b[0m\u001b[1;33m.\u001b[0m\u001b[0mrandom\u001b[0m\u001b[1;33m(\u001b[0m\u001b[0mequ_lat\u001b[0m\u001b[1;33m,\u001b[0m \u001b[0mequ_lon\u001b[0m\u001b[1;33m)\u001b[0m \u001b[1;33m+\u001b[0m \u001b[1;36m3\u001b[0m\u001b[1;33m\u001b[0m\u001b[0m\n\u001b[0m",
      "\u001b[1;32mmtrand.pyx\u001b[0m in \u001b[0;36mmtrand.RandomState.random_sample (numpy\\random\\mtrand\\mtrand.c:15497)\u001b[1;34m()\u001b[0m\n",
      "\u001b[1;31mTypeError\u001b[0m: random_sample() takes at most 1 positional argument (2 given)"
     ]
    }
   ],
   "source": [
    "np.random.random(equ_lat, equ_lon) + 3"
   ]
  },
  {
   "cell_type": "code",
   "execution_count": 54,
   "metadata": {
    "collapsed": true
   },
   "outputs": [],
   "source": [
    "def create_random_point(x0,y0,distance):\n",
    "    \"\"\"\n",
    "            Utility method for simulation of the points\n",
    "    \"\"\"   \n",
    "    r = distance/ 111300\n",
    "    u = np.random.uniform(0,1)\n",
    "    v = np.random.uniform(0,1)\n",
    "    w = r * np.sqrt(u)\n",
    "    t = 2 * np.pi * v\n",
    "    x = w * np.cos(t)\n",
    "    x1 = x / np.cos(y0)\n",
    "    y = w * np.sin(t)\n",
    "    return (x0+x1, y0 +y)\n",
    "\n"
   ]
  },
  {
   "cell_type": "code",
   "execution_count": 58,
   "metadata": {},
   "outputs": [
    {
     "data": {
      "text/plain": [
       "(-1.3736582824875128, -88.417725107772782)"
      ]
     },
     "execution_count": 58,
     "metadata": {},
     "output_type": "execute_result"
    }
   ],
   "source": [
    "create_random_point(equ_lat, equ_lon, 5000)"
   ]
  },
  {
   "cell_type": "code",
   "execution_count": 73,
   "metadata": {},
   "outputs": [
    {
     "name": "stdout",
     "output_type": "stream",
     "text": [
      "-1.35930409855 -88.393942873\n"
     ]
    }
   ],
   "source": [
    "for i in range(1,20):\n",
    "    x,y = create_random_point(equ_lat, equ_lon,500 )\n",
    "print(x,y)"
   ]
  },
  {
   "cell_type": "code",
   "execution_count": null,
   "metadata": {
    "collapsed": true
   },
   "outputs": [],
   "source": [
    "test = []\n",
    "for x, y in np.random:\n",
    "    y = list(x,y)\n",
    "    test.append(y)\n",
    "type(test)"
   ]
  },
  {
   "cell_type": "code",
   "execution_count": 83,
   "metadata": {},
   "outputs": [
    {
     "name": "stdout",
     "output_type": "stream",
     "text": [
      "-1.3550437609076347 -88.38389803484637\n",
      "-1.3469715909838509 -88.39242478426947\n",
      "-1.3466993164844878 -88.38701863595904\n",
      "-1.3538138654696232 -88.38973170479063\n",
      "-1.3519117130478557 -88.38793291819594\n",
      "-1.3506995197216702 -88.38531795768881\n",
      "-1.3528998393110176 -88.38618102027759\n",
      "-1.3520561071253487 -88.38403567685985\n",
      "-1.348551870721811 -88.39014359304925\n",
      "-1.3525590113320463 -88.38709221751368\n",
      "-1.3548620410973296 -88.38567212855942\n",
      "-1.3493066004060827 -88.38892629658665\n",
      "-1.3456203584017286 -88.38549188512972\n",
      "-1.3526385717944938 -88.38880763366724\n",
      "-1.3529519571332111 -88.38363683603066\n",
      "-1.3473608725864579 -88.3898337889019\n",
      "-1.3493897901585938 -88.38900293203987\n",
      "-1.3477671137195282 -88.39123458768258\n",
      "-1.3486480357082675 -88.3892112606995\n",
      "-1.3547951320490765 -88.3907971001664\n",
      "-1.353032873076517 -88.389023835166\n",
      "-1.3537841640630406 -88.38338087413537\n",
      "-1.3534296512046593 -88.38980160823948\n",
      "-1.3509677984310495 -88.38364926421629\n",
      "-1.3550015988702941 -88.38910053943326\n",
      "-1.3482319830233185 -88.39271166542207\n",
      "-1.3525908093005325 -88.39075969920835\n",
      "-1.3487273277885519 -88.39242185523013\n",
      "-1.3513920897127678 -88.38870172650459\n",
      "-1.347739231636745 -88.38718173160639\n",
      "-1.346553690058822 -88.38887388970255\n",
      "-1.3465616791359825 -88.38840869651357\n",
      "-1.3483749264796723 -88.39225106764039\n",
      "-1.3502413832345086 -88.38698486846846\n",
      "-1.3457968232805437 -88.39279518145946\n",
      "-1.3487610003860702 -88.38894484028337\n",
      "-1.353669130675128 -88.38539420112643\n",
      "-1.35483613156046 -88.39013891795955\n",
      "-1.3465811884244334 -88.38533289898693\n",
      "-1.3455711493193647 -88.38339199414128\n",
      "-1.3458924107460866 -88.39306377663962\n",
      "-1.3453200634366034 -88.39108077425752\n",
      "-1.3453574806279742 -88.39289836183683\n",
      "-1.3487302402246695 -88.3880355217782\n",
      "-1.3517752810293262 -88.38928452762488\n",
      "-1.3501749588009624 -88.38544390875981\n",
      "-1.3550302884962837 -88.38441798413773\n",
      "-1.3524982440297602 -88.38662757930982\n",
      "-1.351987352798351 -88.39165002930798\n",
      "-1.352930222593132 -88.38782847214841\n"
     ]
    },
    {
     "data": {
      "text/plain": [
       "NoneType"
      ]
     },
     "execution_count": 83,
     "metadata": {},
     "output_type": "execute_result"
    }
   ],
   "source": [
    "def generate_random_data(lat, lon, num_rows):\n",
    "    for _ in range(num_rows):\n",
    "        dec_lat = r.random()/100\n",
    "        dec_lon = r.random()/100\n",
    "        print(lat+dec_lat,lon+dec_lon )\n",
    "\n",
    "#generate_random_data(equ_lat, equ_lon, 50)\n",
    "type(generate_random_data(equ_lat, equ_lon, 50))\n",
    "\n",
    "#print(enumerate(generate_random_data(equ_lat, equ_lon, 50)))"
   ]
  },
  {
   "cell_type": "code",
   "execution_count": 93,
   "metadata": {},
   "outputs": [],
   "source": [
    "test = []\n",
    "def generate_random_data(lat, lon, num_rows):\n",
    "    for _ in range(num_rows):\n",
    "        dec_lat = r.random()/100\n",
    "        dec_lon = r.random()/100\n",
    "        #print(lat+dec_lat,lon+dec_lon )\n",
    "        test.append((lat+dec_lat,lon+dec_lon))\n",
    "#li.append((3, 'three'))\n",
    "generate_random_data(equ_lat, equ_lon, 50)        \n",
    "#np.savetxt('data.csv', generate_random_data(equ_lat, equ_lon, 50))\n",
    "# writer = csv.writer(open(\"filename.csv\", \"wb\"))\n",
    "# entries = \"first#second#third\".split(\"#\");\n",
    "# writer.writerows(entries)\n",
    "# writer.close()"
   ]
  },
  {
   "cell_type": "code",
   "execution_count": 94,
   "metadata": {},
   "outputs": [
    {
     "data": {
      "text/plain": [
       "[(-1.35048807747482, -88.38517538708592),\n",
       " (-1.346275218655059, -88.38492709996993),\n",
       " (-1.3540651672242998, -88.39058836506574),\n",
       " (-1.3485149678612944, -88.38789032161182),\n",
       " (-1.3485044550063758, -88.39250674204901),\n",
       " (-1.353993893948973, -88.39199900364886),\n",
       " (-1.3534572596568244, -88.38801258156082),\n",
       " (-1.351649598893633, -88.38723422095885),\n",
       " (-1.35190050872961, -88.38758003216469),\n",
       " (-1.3511042192429228, -88.38993278840107),\n",
       " (-1.3533752794276688, -88.3892668418117),\n",
       " (-1.3540931723608705, -88.3914185769691),\n",
       " (-1.3496211286948345, -88.3900964466185),\n",
       " (-1.3507472217990957, -88.39151855951835),\n",
       " (-1.3482543370460076, -88.3865317369641),\n",
       " (-1.3519105679469654, -88.39286840003254),\n",
       " (-1.3544152731618346, -88.38502197775979),\n",
       " (-1.3472597878063022, -88.38357189456555),\n",
       " (-1.3473557631752304, -88.38606077336104),\n",
       " (-1.3524559982604498, -88.39137042052516),\n",
       " (-1.3545203428830785, -88.3876549505321),\n",
       " (-1.351776879323663, -88.38363771090403),\n",
       " (-1.3541400619275, -88.38642520109487),\n",
       " (-1.347849788482556, -88.39164744921473),\n",
       " (-1.3461237031076727, -88.39038884328946),\n",
       " (-1.350337041599517, -88.38635914689763),\n",
       " (-1.3522281994578251, -88.385267068406),\n",
       " (-1.3528493574948188, -88.39153770496306),\n",
       " (-1.3492978006712855, -88.39285221590929),\n",
       " (-1.3535684128746581, -88.39021277700938),\n",
       " (-1.345685915457422, -88.38787343743995),\n",
       " (-1.3531037930287124, -88.38768461286055),\n",
       " (-1.346638942945671, -88.3841144269657),\n",
       " (-1.3504434123847233, -88.38629707143963),\n",
       " (-1.351593249353856, -88.38777780294237),\n",
       " (-1.354453820069114, -88.38992450840719),\n",
       " (-1.353109969198874, -88.38450648346667),\n",
       " (-1.3481530427753208, -88.39154627934155),\n",
       " (-1.3510116222290125, -88.38842529014372),\n",
       " (-1.347383609912271, -88.38337167837868),\n",
       " (-1.3518345439706452, -88.38357130950887),\n",
       " (-1.353965822765847, -88.39293152296567),\n",
       " (-1.3535819085280516, -88.39052420500613),\n",
       " (-1.3474360497720586, -88.3887557003476),\n",
       " (-1.3552262427711022, -88.38626067196431),\n",
       " (-1.3466039207908704, -88.38841323752085),\n",
       " (-1.345479778551003, -88.39201250078843),\n",
       " (-1.3471648847796591, -88.38460855023129),\n",
       " (-1.3459418123905784, -88.39312800972844),\n",
       " (-1.3489418665017157, -88.38737704250273)]"
      ]
     },
     "execution_count": 94,
     "metadata": {},
     "output_type": "execute_result"
    }
   ],
   "source": [
    "test"
   ]
  },
  {
   "cell_type": "code",
   "execution_count": 74,
   "metadata": {},
   "outputs": [
    {
     "ename": "TypeError",
     "evalue": "'int' object is not iterable",
     "output_type": "error",
     "traceback": [
      "\u001b[1;31m---------------------------------------------------------------------------\u001b[0m",
      "\u001b[1;31mTypeError\u001b[0m                                 Traceback (most recent call last)",
      "\u001b[1;32m<ipython-input-74-fba92a8b8b12>\u001b[0m in \u001b[0;36m<module>\u001b[1;34m()\u001b[0m\n\u001b[0;32m      1\u001b[0m \u001b[0mtest\u001b[0m \u001b[1;33m=\u001b[0m \u001b[1;33m[\u001b[0m\u001b[1;33m]\u001b[0m\u001b[1;33m\u001b[0m\u001b[0m\n\u001b[1;32m----> 2\u001b[1;33m \u001b[1;32mfor\u001b[0m \u001b[0mx\u001b[0m\u001b[1;33m,\u001b[0m \u001b[0my\u001b[0m \u001b[1;32min\u001b[0m \u001b[0mgenerate_random_data\u001b[0m\u001b[1;33m(\u001b[0m\u001b[0mequ_lat\u001b[0m\u001b[1;33m,\u001b[0m \u001b[0mequ_lon\u001b[0m\u001b[1;33m,\u001b[0m \u001b[1;36m50\u001b[0m\u001b[1;33m)\u001b[0m\u001b[1;33m:\u001b[0m\u001b[1;33m\u001b[0m\u001b[0m\n\u001b[0m\u001b[0;32m      3\u001b[0m     \u001b[0my\u001b[0m \u001b[1;33m=\u001b[0m \u001b[0mlist\u001b[0m\u001b[1;33m(\u001b[0m\u001b[0mx\u001b[0m\u001b[1;33m,\u001b[0m\u001b[0my\u001b[0m\u001b[1;33m)\u001b[0m\u001b[1;33m\u001b[0m\u001b[0m\n\u001b[0;32m      4\u001b[0m     \u001b[0mtest\u001b[0m\u001b[1;33m.\u001b[0m\u001b[0mappend\u001b[0m\u001b[1;33m(\u001b[0m\u001b[0my\u001b[0m\u001b[1;33m)\u001b[0m\u001b[1;33m\u001b[0m\u001b[0m\n\u001b[0;32m      5\u001b[0m \u001b[0mtype\u001b[0m\u001b[1;33m(\u001b[0m\u001b[0mtest\u001b[0m\u001b[1;33m)\u001b[0m\u001b[1;33m\u001b[0m\u001b[0m\n",
      "\u001b[1;32m<ipython-input-61-8400fe331e23>\u001b[0m in \u001b[0;36mgenerate_random_data\u001b[1;34m(lat, lon, num_rows)\u001b[0m\n\u001b[0;32m      1\u001b[0m \u001b[1;32mdef\u001b[0m \u001b[0mgenerate_random_data\u001b[0m\u001b[1;33m(\u001b[0m\u001b[0mlat\u001b[0m\u001b[1;33m,\u001b[0m \u001b[0mlon\u001b[0m\u001b[1;33m,\u001b[0m \u001b[0mnum_rows\u001b[0m\u001b[1;33m)\u001b[0m\u001b[1;33m:\u001b[0m\u001b[1;33m\u001b[0m\u001b[0m\n\u001b[0;32m      2\u001b[0m     \u001b[0mtuple_list\u001b[0m \u001b[1;33m=\u001b[0m \u001b[1;33m[\u001b[0m\u001b[1;33m]\u001b[0m\u001b[1;33m\u001b[0m\u001b[0m\n\u001b[1;32m----> 3\u001b[1;33m     \u001b[1;32mfor\u001b[0m \u001b[0mitem\u001b[0m \u001b[1;32min\u001b[0m \u001b[0menumerate\u001b[0m\u001b[1;33m(\u001b[0m\u001b[0mnum_rows\u001b[0m\u001b[1;33m)\u001b[0m\u001b[1;33m:\u001b[0m\u001b[1;33m\u001b[0m\u001b[0m\n\u001b[0m\u001b[0;32m      4\u001b[0m         \u001b[0mdec_lat\u001b[0m \u001b[1;33m=\u001b[0m \u001b[0mr\u001b[0m\u001b[1;33m.\u001b[0m\u001b[0mrandom\u001b[0m\u001b[1;33m(\u001b[0m\u001b[1;33m)\u001b[0m\u001b[1;33m/\u001b[0m\u001b[1;36m100\u001b[0m\u001b[1;33m\u001b[0m\u001b[0m\n\u001b[0;32m      5\u001b[0m         \u001b[0mdec_lon\u001b[0m \u001b[1;33m=\u001b[0m \u001b[0mr\u001b[0m\u001b[1;33m.\u001b[0m\u001b[0mrandom\u001b[0m\u001b[1;33m(\u001b[0m\u001b[1;33m)\u001b[0m\u001b[1;33m/\u001b[0m\u001b[1;36m100\u001b[0m\u001b[1;33m\u001b[0m\u001b[0m\n",
      "\u001b[1;31mTypeError\u001b[0m: 'int' object is not iterable"
     ]
    }
   ],
   "source": [
    "test = []\n",
    "for x, y in generate_random_data(equ_lat, equ_lon, 50):\n",
    "    y = list(x,y)\n",
    "    test.append(y)\n",
    "type(test)"
   ]
  },
  {
   "cell_type": "code",
   "execution_count": 43,
   "metadata": {
    "collapsed": true
   },
   "outputs": [],
   "source": [
    "def list_ele_idx(li):\n",
    "    tuple_list = []\n",
    "    for index, item in enumerate(li):\n",
    "        tuple_list.append((index, item))\n",
    "    return tuple_list\n"
   ]
  },
  {
   "cell_type": "code",
   "execution_count": 61,
   "metadata": {},
   "outputs": [
    {
     "ename": "TypeError",
     "evalue": "'int' object is not iterable",
     "output_type": "error",
     "traceback": [
      "\u001b[1;31m---------------------------------------------------------------------------\u001b[0m",
      "\u001b[1;31mTypeError\u001b[0m                                 Traceback (most recent call last)",
      "\u001b[1;32m<ipython-input-61-8400fe331e23>\u001b[0m in \u001b[0;36m<module>\u001b[1;34m()\u001b[0m\n\u001b[0;32m      6\u001b[0m         \u001b[0mtuple_list\u001b[0m\u001b[1;33m.\u001b[0m\u001b[0mappend\u001b[0m\u001b[1;33m(\u001b[0m\u001b[1;33m(\u001b[0m\u001b[0mlon\u001b[0m\u001b[1;33m+\u001b[0m\u001b[0mdec_lon\u001b[0m\u001b[1;33m,\u001b[0m \u001b[0mlat\u001b[0m\u001b[1;33m+\u001b[0m\u001b[0mdec_lat\u001b[0m\u001b[1;33m)\u001b[0m\u001b[1;33m)\u001b[0m\u001b[1;33m\u001b[0m\u001b[0m\n\u001b[0;32m      7\u001b[0m     \u001b[1;32mreturn\u001b[0m \u001b[0mtuple_list\u001b[0m\u001b[1;33m\u001b[0m\u001b[0m\n\u001b[1;32m----> 8\u001b[1;33m \u001b[0mgenerate_random_data\u001b[0m\u001b[1;33m(\u001b[0m\u001b[0mequ_lat\u001b[0m\u001b[1;33m,\u001b[0m \u001b[0mequ_lon\u001b[0m\u001b[1;33m,\u001b[0m \u001b[1;36m50\u001b[0m\u001b[1;33m)\u001b[0m\u001b[1;33m\u001b[0m\u001b[0m\n\u001b[0m",
      "\u001b[1;32m<ipython-input-61-8400fe331e23>\u001b[0m in \u001b[0;36mgenerate_random_data\u001b[1;34m(lat, lon, num_rows)\u001b[0m\n\u001b[0;32m      1\u001b[0m \u001b[1;32mdef\u001b[0m \u001b[0mgenerate_random_data\u001b[0m\u001b[1;33m(\u001b[0m\u001b[0mlat\u001b[0m\u001b[1;33m,\u001b[0m \u001b[0mlon\u001b[0m\u001b[1;33m,\u001b[0m \u001b[0mnum_rows\u001b[0m\u001b[1;33m)\u001b[0m\u001b[1;33m:\u001b[0m\u001b[1;33m\u001b[0m\u001b[0m\n\u001b[0;32m      2\u001b[0m     \u001b[0mtuple_list\u001b[0m \u001b[1;33m=\u001b[0m \u001b[1;33m[\u001b[0m\u001b[1;33m]\u001b[0m\u001b[1;33m\u001b[0m\u001b[0m\n\u001b[1;32m----> 3\u001b[1;33m     \u001b[1;32mfor\u001b[0m \u001b[0mitem\u001b[0m \u001b[1;32min\u001b[0m \u001b[0menumerate\u001b[0m\u001b[1;33m(\u001b[0m\u001b[0mnum_rows\u001b[0m\u001b[1;33m)\u001b[0m\u001b[1;33m:\u001b[0m\u001b[1;33m\u001b[0m\u001b[0m\n\u001b[0m\u001b[0;32m      4\u001b[0m         \u001b[0mdec_lat\u001b[0m \u001b[1;33m=\u001b[0m \u001b[0mr\u001b[0m\u001b[1;33m.\u001b[0m\u001b[0mrandom\u001b[0m\u001b[1;33m(\u001b[0m\u001b[1;33m)\u001b[0m\u001b[1;33m/\u001b[0m\u001b[1;36m100\u001b[0m\u001b[1;33m\u001b[0m\u001b[0m\n\u001b[0;32m      5\u001b[0m         \u001b[0mdec_lon\u001b[0m \u001b[1;33m=\u001b[0m \u001b[0mr\u001b[0m\u001b[1;33m.\u001b[0m\u001b[0mrandom\u001b[0m\u001b[1;33m(\u001b[0m\u001b[1;33m)\u001b[0m\u001b[1;33m/\u001b[0m\u001b[1;36m100\u001b[0m\u001b[1;33m\u001b[0m\u001b[0m\n",
      "\u001b[1;31mTypeError\u001b[0m: 'int' object is not iterable"
     ]
    }
   ],
   "source": [
    "def generate_random_data(lat, lon, num_rows):\n",
    "    tuple_list = []\n",
    "    for item in enumerate(num_rows):\n",
    "        dec_lat = r.random()/100\n",
    "        dec_lon = r.random()/100\n",
    "        tuple_list.append((lon+dec_lon, lat+dec_lat))\n",
    "    return tuple_list\n",
    "generate_random_data(equ_lat, equ_lon, 50)"
   ]
  },
  {
   "cell_type": "code",
   "execution_count": 20,
   "metadata": {},
   "outputs": [
    {
     "ename": "TypeError",
     "evalue": "randint() takes 3 positional arguments but 4 were given",
     "output_type": "error",
     "traceback": [
      "\u001b[1;31m---------------------------------------------------------------------------\u001b[0m",
      "\u001b[1;31mTypeError\u001b[0m                                 Traceback (most recent call last)",
      "\u001b[1;32m<ipython-input-20-64491372eb7e>\u001b[0m in \u001b[0;36m<module>\u001b[1;34m()\u001b[0m\n\u001b[0;32m      1\u001b[0m \u001b[0mcoordinates\u001b[0m \u001b[1;33m=\u001b[0m \u001b[1;33m[\u001b[0m\u001b[1;33m]\u001b[0m\u001b[1;33m\u001b[0m\u001b[0m\n\u001b[0;32m      2\u001b[0m \u001b[1;33m\u001b[0m\u001b[0m\n\u001b[1;32m----> 3\u001b[1;33m \u001b[0mtest\u001b[0m \u001b[1;33m=\u001b[0m \u001b[0mr\u001b[0m\u001b[1;33m.\u001b[0m\u001b[0mrandint\u001b[0m\u001b[1;33m(\u001b[0m\u001b[1;36m1\u001b[0m\u001b[1;33m,\u001b[0m\u001b[1;36m10\u001b[0m\u001b[1;33m,\u001b[0m\u001b[1;36m2\u001b[0m\u001b[1;33m)\u001b[0m\u001b[1;33m\u001b[0m\u001b[0m\n\u001b[0m\u001b[0;32m      4\u001b[0m \u001b[1;32mfor\u001b[0m \u001b[0mi\u001b[0m \u001b[1;32min\u001b[0m \u001b[0mr\u001b[0m\u001b[1;33m.\u001b[0m\u001b[0mrandrange\u001b[0m\u001b[1;33m(\u001b[0m\u001b[1;36m1\u001b[0m\u001b[1;33m,\u001b[0m\u001b[1;36m10\u001b[0m\u001b[1;33m,\u001b[0m\u001b[1;36m2\u001b[0m\u001b[1;33m)\u001b[0m\u001b[1;33m:\u001b[0m\u001b[1;33m\u001b[0m\u001b[0m\n\u001b[0;32m      5\u001b[0m      \u001b[0mprint\u001b[0m\u001b[1;33m(\u001b[0m\u001b[0mi\u001b[0m\u001b[1;33m)\u001b[0m\u001b[1;33m\u001b[0m\u001b[0m\n",
      "\u001b[1;31mTypeError\u001b[0m: randint() takes 3 positional arguments but 4 were given"
     ]
    }
   ],
   "source": [
    "coordinates = []\n",
    "\n",
    "test = r.randint(1,10,2)\n",
    "for i in r.randrange(1,10,2):\n",
    "     print(i)"
   ]
  },
  {
   "cell_type": "code",
   "execution_count": 6,
   "metadata": {},
   "outputs": [
    {
     "name": "stdout",
     "output_type": "stream",
     "text": [
      "quito\n"
     ]
    }
   ],
   "source": [
    "# Dependencies\n",
    "from citipy import citipy\n",
    "\n",
    "# Some random coordinates\n",
    "coordinates = [(-0.180653, -78.467834)]\n",
    "\n",
    "cities = []\n",
    "\n",
    "for coordinate_pair in coordinates:\n",
    "    lat, lon = coordinate_pair\n",
    "    cities.append(citipy.nearest_city(lat, lon))\n",
    "    print(citipy.nearest_city(lat, lon).city_name)\n",
    "    #print(citipy.nearest_city(lat, lon).city_name)\n",
    "    \n",
    "\n",
    "# for city in cities:\n",
    "#     country_code = city.country_code\n",
    "#     name = city.city_name\n",
    "#     print(\"The country code of \" + name + \" is '\" + country_code + \"'.\")"
   ]
  },
  {
   "cell_type": "code",
   "execution_count": 64,
   "metadata": {},
   "outputs": [
    {
     "name": "stdout",
     "output_type": "stream",
     "text": [
      "80.79534465660863\n"
     ]
    }
   ],
   "source": [
    "import random\n",
    "print (random.random()*100)"
   ]
  },
  {
   "cell_type": "code",
   "execution_count": null,
   "metadata": {
    "collapsed": true
   },
   "outputs": [],
   "source": [
    "for i in range(1,20):\n",
    "    x,y = create_random_point(latitude1,longitude1 ,500 )"
   ]
  }
 ],
 "metadata": {
  "kernelspec": {
   "display_name": "Python 3",
   "language": "python",
   "name": "python3"
  },
  "language_info": {
   "codemirror_mode": {
    "name": "ipython",
    "version": 3
   },
   "file_extension": ".py",
   "mimetype": "text/x-python",
   "name": "python",
   "nbconvert_exporter": "python",
   "pygments_lexer": "ipython3",
   "version": "3.6.1"
  }
 },
 "nbformat": 4,
 "nbformat_minor": 2
}

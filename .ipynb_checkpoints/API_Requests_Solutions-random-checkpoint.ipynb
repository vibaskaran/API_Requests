{
 "cells": [
  {
   "cell_type": "code",
   "execution_count": null,
   "metadata": {
    "collapsed": true
   },
   "outputs": [],
   "source": [
    "# Dependencies\n",
    "import json\n",
    "import requests as req\n",
    "from citipy import citipy \n",
    "import random as r \n",
    "import numpy as np\n",
    "import pandas as pd\n",
    "import seaborn as sns\n",
    "import matplotlib.pyplot as plt"
   ]
  },
  {
   "cell_type": "code",
   "execution_count": null,
   "metadata": {
    "collapsed": true
   },
   "outputs": [],
   "source": [
    "# Save config information\n",
    "api_key = \"572ecb9cf7bb5d1eccdea81f6bd8913d\"\n",
    "url = \"http://api.openweathermap.org/data/2.5/weather?\"\n",
    "#equ_lat = -1.3552423\n",
    "#equ_lon = -88.3931602\n",
    "coordinates= []\n",
    "city_name = []"
   ]
  },
  {
   "cell_type": "code",
   "execution_count": null,
   "metadata": {},
   "outputs": [],
   "source": [
    "def generate_random_data( num_rows):\n",
    "    for _ in range(num_rows):\n",
    "        dec_lat = r.random()/100 + r.randint(-90,90)\n",
    "        dec_lon = r.random()/100+ r.randint(-90,90)\n",
    "        #print(lat+dec_lat,lon+dec_lon )\n",
    "        coordinates.append((dec_lat,dec_lon))\n",
    "\n",
    "generate_random_data(50)\n",
    "\n",
    "\n",
    "\n"
   ]
  },
  {
   "cell_type": "code",
   "execution_count": null,
   "metadata": {
    "collapsed": true
   },
   "outputs": [],
   "source": [
    "cities = []\n",
    "\n",
    "for coordinate_pair in coordinates:\n",
    "    lat, lon = coordinate_pair\n",
    "    cities.append(citipy.nearest_city(lat, lon).city_name)\n",
    "cities = list(set(cities))"
   ]
  },
  {
   "cell_type": "code",
   "execution_count": null,
   "metadata": {
    "collapsed": true
   },
   "outputs": [],
   "source": [
    "for city in cities:\n",
    "    query_url = url + \"appid=\" + api_key + \"&q=\" + str(city)\n",
    "    print()\n",
    "    print('City No ',cities.index(city),' City Name is ',city)\n",
    "    print()\n",
    "    print(query_url)"
   ]
  },
  {
   "cell_type": "code",
   "execution_count": null,
   "metadata": {},
   "outputs": [],
   "source": [
    "\n",
    "\n",
    "city_lat = []\n",
    "city_lon = []\n",
    "city_temp = []\n",
    "city_cloud = []\n",
    "city_humid = []\n",
    "city_wind = []\n",
    "\n",
    "for city in cities:\n",
    "    query_url = url + \"appid=\" + api_key + \"&q=\" + str(city)\n",
    "    #rint(city,'City Name is ',city)\n",
    "    #print(query_url)\n",
    "    # Get weather data\n",
    "    weather_response = req.get(query_url)\n",
    "    weather_json = weather_response.json()\n",
    "    # Get temperature from JSON response\n",
    "    #print(weather_json)\n",
    "    city_name.append(weather_json['name'])\n",
    "    city_lat.append(weather_json['coord']['lat'])\n",
    "    city_lon.append(weather_json['coord']['lon'])\n",
    "    city_temp.append(weather_json['main']['temp'])\n",
    "    city_cloud.append(weather_json['clouds']['all'])\n",
    "    city_humid.append(weather_json['main']['humidity'])\n",
    "    city_wind.append(weather_json['wind']['speed'])\n",
    "city_data = pd.DataFrame({'City_name': city_name,'Lat': city_lat,'Lon':city_lon,'Temp':city_temp,\n",
    "                          'Cloudiness':city_cloud,'Humidity':city_humid,'Wind_speed':city_wind})\n",
    "#print(city_name)"
   ]
  },
  {
   "cell_type": "code",
   "execution_count": null,
   "metadata": {},
   "outputs": [],
   "source": [
    "city_data"
   ]
  },
  {
   "cell_type": "code",
   "execution_count": null,
   "metadata": {},
   "outputs": [],
   "source": [
    "plt.xlabel = 'Latitude'\n",
    "plt.ylabel = 'Temperature'\n",
    "plt.title = 'Latitude Vs Temperate'\n",
    "\n",
    "plt.scatter(x=city_data['Lat'],y = city_data['Temp'])\n",
    "plt.show()"
   ]
  },
  {
   "cell_type": "code",
   "execution_count": null,
   "metadata": {},
   "outputs": [],
   "source": [
    "plt.xlabel = 'Latitude'\n",
    "plt.ylabel = 'Humidity'\n",
    "plt.title = 'Latitude Vs Humidity'\n",
    "\n",
    "plt.scatter(x=city_data['Lat'],y = city_data['Humidity'])\n",
    "plt.show()"
   ]
  },
  {
   "cell_type": "code",
   "execution_count": null,
   "metadata": {},
   "outputs": [],
   "source": [
    "plt.xlabel = 'Latitude'\n",
    "plt.ylabel = 'Cloudiness'\n",
    "plt.title = 'Latitude Vs Cloudiness'\n",
    "\n",
    "plt.scatter(x=city_data['Lat'],y = city_data['Cloudiness'])\n",
    "plt.show()"
   ]
  },
  {
   "cell_type": "code",
   "execution_count": null,
   "metadata": {},
   "outputs": [],
   "source": [
    "plt.xlabel = 'Latitude'\n",
    "plt.ylabel = 'WindSpeed'\n",
    "plt.title = 'Latitude Vs WindSpeed'\n",
    "\n",
    "plt.scatter(x=city_data['Lat'],y = city_data['Wind_speed'])\n",
    "plt.show()"
   ]
  },
  {
   "cell_type": "code",
   "execution_count": null,
   "metadata": {
    "collapsed": true
   },
   "outputs": [],
   "source": []
  }
 ],
 "metadata": {
  "kernelspec": {
   "display_name": "Python [default]",
   "language": "python",
   "name": "python3"
  },
  "language_info": {
   "codemirror_mode": {
    "name": "ipython",
    "version": 3
   },
   "file_extension": ".py",
   "mimetype": "text/x-python",
   "name": "python",
   "nbconvert_exporter": "python",
   "pygments_lexer": "ipython3",
   "version": "3.6.2"
  }
 },
 "nbformat": 4,
 "nbformat_minor": 2
}
